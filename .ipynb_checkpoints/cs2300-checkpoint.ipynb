{
 "cells": [
  {
   "cell_type": "markdown",
   "id": "f5c890e6-61a1-4088-9445-1600e6c12220",
   "metadata": {
    "deletable": false,
    "editable": false,
    "tags": []
   },
   "source": [
    "![Russ College Logo](images/logo.png)"
   ]
  },
  {
   "cell_type": "markdown",
   "id": "0859985c-7c68-4c93-9946-d36636fdb5df",
   "metadata": {
    "deletable": false,
    "editable": false,
    "tags": []
   },
   "source": [
    "<b>\n",
    "    <p style=\"text-align:center;color:#00694E;font-family:copperplate;font-size:40px\">\n",
    "        CS 2300 - Computer Programming in Java\n",
    "    </p>\n",
    "</b>"
   ]
  },
  {
   "cell_type": "markdown",
   "id": "c48395fa-64e4-43de-a87d-90f45a209e19",
   "metadata": {
    "deletable": false,
    "editable": false,
    "tags": []
   },
   "source": [
    "## **Course Description**\n",
    "CS 2300 - Computer Programming in Java is a stand-alone course in the computer science curriculum here at Ohio University intended for students who want to learn more about computer programming for their use in unrelated fields. Meaning CS 2300 is not a required course for computer science majors, but rather for students in other majors who want to further their skills in computer programming. As a student in this course you will learn the basics of programming in Java, representing data, debugging and verifying programs, and also dive into the organization and characteristics of computers. If you're not sure if you want to declare computer science as your major right away, this would be the perfect first class to take to learn more about the basics of computer programming and much more computing related topics."
   ]
  },
  {
   "cell_type": "markdown",
   "id": "7ad9f4bc-3113-464a-b40e-9c7607c0ae60",
   "metadata": {
    "deletable": false,
    "editable": false,
    "tags": []
   },
   "source": [
    "## **What You'll Learn**\n",
    "- Students will be able to create a graphical interface using standard controls\n",
    "- Students will be able to use Java library classes and methods\n",
    "- Students will be able to employ basic flow of control structures, including basic iterative and branching structures\n",
    "- Students will be able to create applications to solve problems\n",
    "- Students will be able to create a class with constructors, getters, setters, and a toString method"
   ]
  },
  {
   "cell_type": "markdown",
   "id": "90764ba4-0fff-49af-8a73-407359e5ba56",
   "metadata": {
    "deletable": false,
    "editable": false,
    "tags": []
   },
   "source": [
    "### **Classes, Objects, & Methods in Java**\n",
    "- The Java programming language is one of the most popular Object Oriented Programming (OOP) languages. Classes and Objects are the two most important basic concepts of Object Oriented Programming which revolve around the real life entities.\n",
    "> - **Classes**\n",
    ">> - A class in OOP is like a blueprint/outline from which objects are created. A class represents the set of properties or methods that are common to all of the objects of that type.\n",
    ">> - Constructors are used for initializing new objects of the type of the class. Fields are variables that provide the state of the class and it's objects, and methods are used to implement the behavior of the class and it's objects.\n",
    "> - **Objects**\n",
    ">> - An object is the basic unit of any Object Oriented Programming lanaguage and represents the real-life entities. A typical Java program creates many objects that interact by invoking class methods. Every object consists of:\n",
    ">>> - **State**: The state of an object is represented by the attributes of that object. It also reflects the properties of an object.\n",
    ">>> - **Behavior**: The behavior of an object is represented by the methods of that object. It also reflects the response of an object with other objects.\n",
    ">>> - **Identity**: The identity of an object is represented by the unique name given to that object upon declaration. This uniqueness enables one object to interact with other objects."
   ]
  },
  {
   "cell_type": "markdown",
   "id": "df58379a-5a8e-4741-95b2-f5850af60c70",
   "metadata": {
    "deletable": false,
    "editable": false,
    "tags": []
   },
   "source": [
    "Credit to www.geeksforgeeks.org/classes-objects-java/ for the information above."
   ]
  },
  {
   "cell_type": "markdown",
   "id": "087f64a3-20f4-439e-9d70-ca6e9693989a",
   "metadata": {
    "deletable": false,
    "editable": false,
    "tags": []
   },
   "source": [
    "#### **Student class in Java**\n",
    "- Below is a simple class in Java called Student. A student, as defined in the Student class, consists of a name, major, student ID, and their age. A constructor has been created to create an object of type student, and their are methods to retrieve the specific attributes of each student. Feel free to create a new student in the main program, run it, and see if it works!\n",
    "- **MUST SWITCH KERNEL TO SCIJAVA TO RUN EXAMPLE.** To do this, click on \"No Kernel\" or \"Python 3\" on top ribbon, and switch to SciJava."
   ]
  },
  {
   "cell_type": "code",
   "execution_count": null,
   "id": "ce9f6cc6-8fd7-4fe3-afb9-f7b02cdd1d94",
   "metadata": {
    "deletable": false,
    "tags": []
   },
   "outputs": [],
   "source": [
    "// Ensure kernel is set to SciJava\n",
    "public class Student {\n",
    "// Instance Variables\n",
    "    String name;\n",
    "    String major;\n",
    "    int student_id;\n",
    "    int age;\n",
    "\n",
    "    public Student(){\n",
    "\n",
    "    }\n",
    "\n",
    "    // Constructor Declaration of Class\n",
    "    public Student(String name, String major, int student_id, int age)\n",
    "    {\n",
    "        this.name = name;\n",
    "        this.major = major;\n",
    "        this.student_id = student_id;\n",
    "        this.age = age;\n",
    "    }\n",
    "\n",
    "    // method 1\n",
    "    public String getName()\n",
    "    {\n",
    "        return name;\n",
    "    }\n",
    "\n",
    "    // method 2\n",
    "    public String getMajor()\n",
    "    {\n",
    "        return major;\n",
    "    }\n",
    "\n",
    "    // method 3\n",
    "    public int getID()\n",
    "    {\n",
    "        return student_id;\n",
    "    }\n",
    "\n",
    "    // method 4\n",
    "    public int getAge()\n",
    "    {\n",
    "        return age;\n",
    "    }\n",
    "\n",
    "    @Override\n",
    "    public String toString()\n",
    "    {\n",
    "        return(\"Hi my name is \" + this.getName() + \"\\nMy major is \" + this.getMajor()\n",
    "               + \"\\nI am \" + this.getAge() + \" years old\" + \"\\nMy student ID is \" + this.getID());\n",
    "    }\n",
    "\n",
    "    public static void main(String[] args)\n",
    "    {\n",
    "        Student james = new Student(\"James\", \"Computer Science\", 201345, 18);\n",
    "        System.out.println(james.toString());\n",
    "    }\n",
    "\n",
    "}"
   ]
  },
  {
   "cell_type": "markdown",
   "id": "572bbf5a-35b6-4398-a69e-7f091e6218c0",
   "metadata": {
    "deletable": false,
    "editable": false,
    "tags": []
   },
   "source": [
    "### **Constructors, Setters, and Getters In Java**\n",
    "A constructor in Java is similar to method and it is invoked at the time creating an object of the class, it is generally used to initialize the instance variables of a class. The constructors have the same name as their class and, have no return type.\n",
    "If you do not provide a constructor the compiler defines one on your behalf, which initializes the instance variables with default values.\n",
    "You can also accept parameters through constructors and initialize the instance variables of a class using the given values, these are known as parameterized constructors.\n",
    "- **MUST SWITCH KERNEL TO SCIJAVA TO RUN EXAMPLE.** To do this, click on \"No Kernel\" or \"Python 3\" on top ribbon, and switch to SciJava."
   ]
  },
  {
   "cell_type": "code",
   "execution_count": null,
   "id": "e662e292-679b-4046-8e61-aab82f60a788",
   "metadata": {
    "deletable": false,
    "tags": []
   },
   "outputs": [],
   "source": [
    "// Ensure kernel is set to SciJava\n",
    "import java.util.*;\n",
    " \n",
    "public class CollectionGetterSetter {\n",
    "    private List<String> listTitles;\n",
    " \n",
    "    public void setListTitles(List<String> titles) {\n",
    "this.listTitles = titles;\n",
    "    }\n",
    " \n",
    "    public List<String> getListTitles() {\n",
    "        return this.listTitles;\n",
    "    }\n",
    " \n",
    "    public static void main(String[] args) {\n",
    "        CollectionGetterSetter app = new CollectionGetterSetter();\n",
    "        List<String> titles1 = new ArrayList();\n",
    "        titles1.add(\"Name\");\n",
    "        titles1.add(\"Address\");\n",
    "        titles1.add(\"Email\");\n",
    "        titles1.add(\"Job\");\n",
    " \n",
    "        app.setListTitles(titles1);\n",
    " \n",
    "        System.out.println(\"Titles 1: \" + titles1);\n",
    " \n",
    "        titles1.set(2, \"Habilitation\");\n",
    " \n",
    "        List<String> titles2 = app.getListTitles();\n",
    "        System.out.println(\"Titles 2: \" + titles2);\n",
    " \n",
    "        titles2.set(0, \"Full name\");\n",
    " \n",
    "        List<String> titles3 = app.getListTitles();\n",
    "        System.out.println(\"Titles 3: \" + titles3);\n",
    " \n",
    "    }\n",
    " \n",
    "}"
   ]
  },
  {
   "cell_type": "markdown",
   "id": "f9678c69-db4b-4289-b59a-32d5060bbc72",
   "metadata": {
    "deletable": false,
    "editable": false,
    "tags": []
   },
   "source": [
    "According to the rules for implementing getter and setter, the three System.out.println() statements should produce the same result. However, when running the above program it produces the following output:\n",
    "If you want to access these variables you cannot access them directly, you can just use the provided setter and getter methods to read and write their values. The variables which you haven’t provided these methods will be completely hidden from the outside classes\n",
    "- **MUST SWITCH KERNEL TO SCIJAVA TO RUN EXAMPLE.** To do this, click on \"No Kernel\" or \"Python 3\" on top ribbon, and switch to SciJava."
   ]
  },
  {
   "cell_type": "code",
   "execution_count": null,
   "id": "f00e502c-5c80-49c0-a206-4a88b26fde3c",
   "metadata": {
    "deletable": false,
    "tags": []
   },
   "outputs": [],
   "source": [
    "// Ensure kernel is set to SciJava\n",
    "import java.util.*;\n",
    " \n",
    "public class CollectionGetterSetter {\n",
    "    private List<String> listTitles;\n",
    " \n",
    "   public void setListTitles(List<String> titles) {\n",
    "    this.listTitles = new ArrayList<String>(titles);\n",
    "}\n",
    " \n",
    "public List<String> getListTitles() {\n",
    "    return new ArrayList<String>(this.listTitles);   \n",
    "}\n",
    " \n",
    "    public static void main(String[] args) {\n",
    "        CollectionGetterSetter app = new CollectionGetterSetter();\n",
    "        List<String> titles1 = new ArrayList();\n",
    "        titles1.add(\"Name\");\n",
    "        titles1.add(\"Address\");\n",
    "        titles1.add(\"Email\");\n",
    "        titles1.add(\"Job\");\n",
    " \n",
    "        app.setListTitles(titles1);\n",
    " \n",
    "        System.out.println(\"Titles 1: \" + titles1);\n",
    " \n",
    "        titles1.set(2, \"Habilitation\");\n",
    " \n",
    "        List<String> titles2 = app.getListTitles();\n",
    "        System.out.println(\"Titles 2: \" + titles2);\n",
    " \n",
    "        titles2.set(0, \"Full name\");\n",
    " \n",
    "        List<String> titles3 = app.getListTitles();\n",
    "        System.out.println(\"Titles 3: \" + titles3);\n",
    " \n",
    "    }\n",
    "}"
   ]
  },
  {
   "cell_type": "markdown",
   "id": "eb56ccbc-04d0-474e-b357-ad3a2e57af9e",
   "metadata": {
    "deletable": false,
    "editable": false,
    "tags": []
   },
   "source": [
    "As you observe, the main difference between constructors and setter/getter methods is −\n",
    "- The constructors are used to initialize the instance variable of a class or, create objects.\n",
    "- The setter/getter methods are used to assign/change and retrieve values of the instance variables of a class."
   ]
  },
  {
   "cell_type": "markdown",
   "id": "f3044ff0-bb8f-4352-8d1c-063d13f0d693",
   "metadata": {
    "deletable": false,
    "editable": false,
    "tags": []
   },
   "source": [
    "## **Conclusion**\n",
    "This course gives a well rounded introduction to both java and computer programming as a whole. Accessable to any student who is interested, this class is not unique to computer science majors. As discussed briefly in this module we approach fundamental topics within java such as Classes, Objects, and Methods in java while also touching into Constructors, getters, and setters. All of these combine for a great foundational understanding of what to expect in a CS course while being done in a beginner friendly language such as java. The course will follow on to the topics discussed and it can be expected to learn more about graphical user interfaces and basic control structure which are essential to learn development in any new language. "
   ]
  },
  {
   "cell_type": "markdown",
   "id": "0a18c663-4b8b-43aa-b681-4dfe487c47a4",
   "metadata": {
    "deletable": false,
    "editable": false,
    "tags": []
   },
   "source": [
    "<b>\n",
    "    <p style=\"text-align:center;color:#00694E;font-family:copperplate;font-size:13px\">\n",
    "        © 2022 GAMA: Gavin Dassatti, Alex Heffner, Matthew Lang, and Aaron Begy. All rights reserved.\n",
    "    </p>\n",
    "</b>"
   ]
  }
 ],
 "metadata": {
  "kernelspec": {
   "display_name": "Python 3 (ipykernel)",
   "language": "python",
   "name": "python3"
  },
  "language_info": {
   "codemirror_mode": {
    "name": "ipython",
    "version": 3
   },
   "file_extension": ".py",
   "mimetype": "text/x-python",
   "name": "python",
   "nbconvert_exporter": "python",
   "pygments_lexer": "ipython3",
   "version": "3.9.10"
  }
 },
 "nbformat": 4,
 "nbformat_minor": 5
}
