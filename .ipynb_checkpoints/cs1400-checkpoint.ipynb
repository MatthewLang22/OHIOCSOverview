{
 "cells": [
  {
   "cell_type": "markdown",
   "id": "4678a525-db22-45cd-af8a-36a19d9857e9",
   "metadata": {
    "deletable": false,
    "editable": false,
    "tags": []
   },
   "source": [
    "![Russ College Logo](images/logo.png)"
   ]
  },
  {
   "cell_type": "markdown",
   "id": "470405ad-82b5-4d42-8cd1-bd7d0c22a527",
   "metadata": {
    "deletable": false,
    "editable": false,
    "tags": []
   },
   "source": [
    "<b>\n",
    "    <p style=\"text-align:center;color:#00694E;font-family:copperplate;font-size:40px\">\n",
    "        CS 1400 - Fundamentals of Computing\n",
    "    </p>\n",
    "</b>"
   ]
  },
  {
   "cell_type": "markdown",
   "id": "da99226d-8795-4610-8fe4-e80cbab6c7c9",
   "metadata": {
    "deletable": false,
    "editable": false,
    "tags": []
   },
   "source": [
    "## **Course Description**\n",
    "CS 1400 - Fundamentals of Computing is the most basic computer science course offered here at Ohio University. Many first or second year students want to learn about computer science, but may not have any prior programming or computing experience ... which is totally fine! This course is here to help students who want to dive in to CS at the beginner level and really figure out what the field of computer science is all about. As a student in this course you will cover all of the fundamentals of computing that are essential to becoming a successful student in the computer science curriculum here at OU. Some of the most important topics students will learn about in this course include computational thinking & problem solving, introduction to algorithms, data analysis, and computer programming. Upon completion of CS 1400, students should be more than prepared to move onto CS 2400 - Intro to CS, which is the next step in the CS curriculum."
   ]
  },
  {
   "cell_type": "markdown",
   "id": "c708b21a-84e4-4571-ae94-5f8305709288",
   "metadata": {
    "deletable": false,
    "editable": false,
    "tags": []
   },
   "source": [
    "## **Learning Outcomes**\n",
    "- Students will be able to develop code modules in a high level programming language.\n",
    "- Students will be able to interpret algorithms that enable essential computing infrastructure.\n",
    "- Students will be able to apply computational thinking and problem solving skills.\n",
    "- Students will be able to recognize contemporary issues in computer science."
   ]
  },
  {
   "cell_type": "markdown",
   "id": "eb9a8a67-6975-4c65-8fe0-21a6320f9129",
   "metadata": {
    "deletable": false,
    "editable": false,
    "tags": []
   },
   "source": [
    "## **What You'll Learn**"
   ]
  },
  {
   "cell_type": "markdown",
   "id": "6eb64278-d4d5-4f63-afd3-f4789ee24fef",
   "metadata": {
    "deletable": false,
    "editable": false,
    "tags": []
   },
   "source": [
    "### **Computer Programming Fundamentals**\n",
    "- One of the broadest and most intriguing parts of computing is computer programming. The possibilities are endless when you know how to program computers and thats what gets a lot of people interested in computer science in the first place. But, before you can efficiently program computers you have to learn how to **think logically, pay attention to detail, and efficiently problem-solve**. When people first get involved in computer programming they tend to spend a lot of time figuring out what programming languages to learn. Finding the right programming langauge is difficult because there are thousands, and they all do certain things better than others. One of the most popular programming languages among beginners is **Python**. This is because Python is one of the most easy-to-learn programming languages because it prioritizes readibilty, making it one of the most simple to understand and use. You will learn all about Python as a student in this course, but we will use it to demonstrate some of the most important fundamentals of programming that you can use to write program in almost any language.\n",
    "\n",
    "\n",
    "Credit to https://www.youtube.com/watch?v=eSYeHlwDCNA for the following image:\n",
    "<div>\n",
    "<img src=\"images/cs1400-basic.png\" width=\"500\"/>\n",
    "</div>"
   ]
  },
  {
   "cell_type": "markdown",
   "id": "ea40645e-780c-4b53-bfc5-3422a5b90220",
   "metadata": {
    "deletable": false,
    "editable": false,
    "tags": []
   },
   "source": [
    "Credit to https://study.com/academy/lesson/5-basic-elements-of-programming.html for the following information."
   ]
  },
  {
   "cell_type": "markdown",
   "id": "e03b1553-627d-4feb-af01-54b7bc14236d",
   "metadata": {
    "deletable": false,
    "editable": false,
    "tags": []
   },
   "source": [
    "- #### **Input & Output**\n",
    "> - Input for programs can come from just about anywhere whether it's user input from the keyboard, a touch screen, or data from a test file. Input is one of two elements that are used by almost every computer program because every process needs atleast some data to work with.\n",
    "> - Output is the result that the program computes based on the input given by the user. Output can take on many different forms whether it be text, graphics, etc. and just about any form of output a program produces can be understood by human beings. Another big thing output is that it is almost always dependent on the input ... so output can change as the input changes."
   ]
  },
  {
   "cell_type": "code",
   "execution_count": null,
   "id": "e7b72794-a40d-4758-b7d9-4f35b29973ec",
   "metadata": {
    "deletable": false,
    "tags": []
   },
   "outputs": [],
   "source": [
    "# Ensure kernel is set to Python3\n",
    "# This is a simple program to demonstrate the fundamentals behind input & output\n",
    "# Run this cell block and enter your in when the program prompts you to\n",
    "# This program will take the two numbers you enter and perform several mathematical computations on them\n",
    "\n",
    "print(\"Welcome to the CS calculator program!\")\n",
    "\n",
    "# The two lines below read in your input and store them in variables\n",
    "input1 = input(\"Enter the first number here: \")\n",
    "input2 = input(\"Enter the second number here: \")\n",
    "\n",
    "# We then need to convert them to numbers because they are read in as strings or words\n",
    "one = int(input1)\n",
    "two = int(input2)\n",
    "\n",
    "# Next we perform all of the mathematical computations on the numbers entered\n",
    "add = one + two\n",
    "sub = one - two\n",
    "mul = one * two\n",
    "div = one / two\n",
    "\n",
    "# And then we output the results of all the computations\n",
    "print('\\n')\n",
    "print(\"Addition: \", add)\n",
    "print(\"Subtraction: \", sub)\n",
    "print(\"Multiplication: \", mul)\n",
    "print(\"Division: \", div)"
   ]
  },
  {
   "cell_type": "markdown",
   "id": "b69ad80b-fab5-49b9-b044-586d4c44389e",
   "metadata": {
    "deletable": false,
    "editable": false,
    "tags": []
   },
   "source": [
    "- #### **Looping & Conditionals**\n",
    "> - Loops are one of the most if not the most important fundamental of computer programming. With loops we can basically automate our programs to do specific computations over sets of data, all we have to do is design them. In a loop, the program executes a specific set of instructions until the condition of the loop is met. This allows the program to do a large amount of computations while we, the programmers, do minimal work.\n",
    "> - Now that we have created our imaginary loop in our heads that we plan on designing, we need conditionals to tell our programs to do certain things rather than others if some reasonable condtion is met during execution of the program. So for example **if** one of our imaginary variables is true the program will execute a certain set of instructions or **if** our variable is false then we do a totally different set of instructions. Condtionals mostly follow the format of 'if this then x else y'"
   ]
  },
  {
   "cell_type": "code",
   "execution_count": null,
   "id": "09647c57-6be5-41ee-a426-852e0535c278",
   "metadata": {
    "deletable": false,
    "tags": []
   },
   "outputs": [],
   "source": [
    "# Ensure kernel is set to Python3\n",
    "# This simple program demonstrates how we can use a built in condtional 'if' statement\n",
    "# to check the input from the user and perform certain operations if the conditions are met\n",
    "\n",
    "x = input('Enter a number: ')\n",
    "num = int(x)\n",
    "\n",
    "# If the number you entered is divisible by 2 (even)\n",
    "if num % 2 == 0:\n",
    "    # The program will print the following if the numbered enetered is even\n",
    "    print('\\nYou entered an even number!')\n",
    "# Because numbers are either even or odd ... if its not even then its odd\n",
    "else:\n",
    "    # The program will print the following if the numbered entered is odd\n",
    "    print('\\nYou entered an odd number!')\n",
    "    "
   ]
  },
  {
   "cell_type": "code",
   "execution_count": null,
   "id": "20b13b64-bd20-4f67-bac8-1d10faac83d0",
   "metadata": {
    "deletable": false,
    "tags": []
   },
   "outputs": [],
   "source": [
    "# Ensure kernel is set to Python3\n",
    "# change the numbers in the array to make the output of the program change!\n",
    "array = [0, 1, 2, 3, 4, 5, 6, 7, 8, 9]\n",
    "\n",
    "# change these boolean variables to either True or False\n",
    "# to change the output of the program\n",
    "increment = True\n",
    "evens = False\n",
    "odds = False\n",
    "\n",
    "# this simple 'for' loop will loop through array number by number\n",
    "# and perform a certain set of tasks based on the values of the \n",
    "# boolean variables\n",
    "for number in array:\n",
    "    if increment == True:\n",
    "        number = number + 1\n",
    "        print(number)\n",
    "    elif evens == True:\n",
    "        if number % 2 == 0:\n",
    "            print(number)\n",
    "    elif odds == True:\n",
    "        if number % 2 != 0:\n",
    "            print(number)"
   ]
  },
  {
   "cell_type": "markdown",
   "id": "a261cdde-3e57-452f-b799-a0cd6e3ae3f0",
   "metadata": {
    "deletable": false,
    "editable": false,
    "tags": []
   },
   "source": [
    "### **Beginner level Functions**\n",
    "#### **Average Grade**\n",
    "Combining the topics of looping and I/O we can use some of the computer science fundamentals to implement beginner level functions such as returning the average score of a student in the first function   "
   ]
  },
  {
   "cell_type": "code",
   "execution_count": null,
   "id": "c76801d0-3557-441c-bafb-3763f8303d40",
   "metadata": {
    "deletable": false,
    "tags": []
   },
   "outputs": [],
   "source": [
    "# Ensure kernel is set to Python3\n",
    "def main():\n",
    "    name, age = get_person_info()\n",
    "    print('name:', name, 'age:', age)\n",
    "    score1, score2, score3 = 60, 90, 80\n",
    "    average = get_stats(sc1=score1, sc2=score2, sc3=score3)\n",
    "    print('Average:', average)\n",
    "def get_stats(sc1, sc2, sc3):\n",
    "    print('score1:', sc1, 'score2:', sc2, 'score3:', sc3)\n",
    "    total = sc1 + sc2 + sc3\n",
    "    average = total/3\n",
    "   \n",
    "    return average\n",
    "def get_person_info():\n",
    "    name = input('Enter your name: ')\n",
    "    age = input('Enter your age: ')\n",
    "    return name, age\n",
    "main()"
   ]
  },
  {
   "cell_type": "markdown",
   "id": "78ad9ed1-19b5-4224-874b-84be9feb3b85",
   "metadata": {
    "deletable": false,
    "editable": false,
    "tags": []
   },
   "source": [
    "#### **Python Factorial Function**\n",
    "\n",
    "Factorial of a non-negative integer, is multiplication of all integers smaller than or equal to n. For example factorial of 6 is 6 * 5 * 4 * 3 * 2 * 1 which is 720."
   ]
  },
  {
   "cell_type": "code",
   "execution_count": null,
   "id": "5a626d3b-8bc4-4e3c-8caf-4bac86bf23ae",
   "metadata": {
    "deletable": false,
    "tags": []
   },
   "outputs": [],
   "source": [
    "# Ensure kernel is set to Python3\n",
    "def factorial(n):\n",
    "    if n < 0:\n",
    "        return 0\n",
    "    elif n == 0 or n == 1:\n",
    "        return 1\n",
    "    else:\n",
    "        fact = 1\n",
    "        while(n > 1):\n",
    "            fact *= n\n",
    "            n -= 1\n",
    "        return fact\n",
    " \n",
    "num = 6;\n",
    "print(\"Factorial of\",num,\"is\",\n",
    "factorial(num))"
   ]
  },
  {
   "cell_type": "markdown",
   "id": "e8e0a997-98e4-4510-9789-37057ce74f8b",
   "metadata": {
    "deletable": false,
    "editable": false,
    "tags": []
   },
   "source": [
    "### **Contemporary Issues In Computer Science**\n",
    "- Algorithmic Bias\n",
    "    - Computer scientists have to be very careful not to bake their own biases into the programs they create, and monitoring their output regularly to try and spot and address any problems as quickly as possible.\n",
    "- Security In the Internet of Things \n",
    "    - You can already control lights, heating and the sound system in your home remotely from your mobile phone, for instance. But there is a downside to all of this as well. As soon as an item becomes ‘intelligent’ in this way, it becomes open to being hacked. \n",
    "- Encryption & Quantom Computing \n",
    "    - There are only so many different shapes that a key can have, so you could make a whole series of keys and try them all, but chances are that this would take so long that someone would have caught you at it long before you found the right one. Now imagine that this whole process of making and testing keys was millions of times faster. You would presumably conclude that the locked door is not quite so much of a barrier any more.\n",
    "- Artificial Intelligence \n",
    "    -  What if a super-intelligence carries out an ill-thought-through command too quickly and too efficiently for the consequences to be averted? How can we ensure that an artificial intelligence does what we intended and not necessarily what we asked?"
   ]
  },
  {
   "cell_type": "markdown",
   "id": "e15ea563-bcbe-48b0-bb23-57f7277f7032",
   "metadata": {
    "deletable": false,
    "editable": false,
    "tags": []
   },
   "source": [
    "## **Conclusion** \n",
    "With completion of this course students will have attained a fundamental understanding of the basics within computer programming. Starting in a beginner friendly language like python makes it easier to be able to apply computational thinking and problem solving skills to the projects within the class. The examples provided within the module can give just a taste of what to expect within fundamentals of computing. Topics like Looping/Conditionals and Input/Output give the ability to write basic level functions such as the score calculator and factorial program. Wrapping up with Contemporary Issues students will begin learning about the high level problems that might be associated with the ability to develop complex computer science programs. "
   ]
  },
  {
   "cell_type": "markdown",
   "id": "c99d0946-e04e-46b7-8593-d9436f82bcd2",
   "metadata": {
    "deletable": false,
    "editable": false,
    "tags": []
   },
   "source": [
    "<b>\n",
    "    <p style=\"text-align:center;color:#00694E;font-family:copperplate;font-size:13px\">\n",
    "        © 2022 GAMA: Gavin Dassatti, Alex Heffner, Matthew Lang, and Aaron Begy. All rights reserved.\n",
    "    </p>\n",
    "</b>"
   ]
  }
 ],
 "metadata": {
  "kernelspec": {
   "display_name": "Python 3 (ipykernel)",
   "language": "python",
   "name": "python3"
  },
  "language_info": {
   "codemirror_mode": {
    "name": "ipython",
    "version": 3
   },
   "file_extension": ".py",
   "mimetype": "text/x-python",
   "name": "python",
   "nbconvert_exporter": "python",
   "pygments_lexer": "ipython3",
   "version": "3.9.10"
  }
 },
 "nbformat": 4,
 "nbformat_minor": 5
}
