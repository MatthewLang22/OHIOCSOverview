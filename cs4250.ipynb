{
 "cells": [
  {
   "cell_type": "markdown",
   "id": "011b69fe-d578-4d3e-876d-c11054ad2207",
   "metadata": {
    "deletable": false,
    "editable": false,
    "tags": []
   },
   "source": [
    "![Russ College Logo](images/logo.png)"
   ]
  },
  {
   "cell_type": "markdown",
   "id": "47298c3e-53e6-4cef-8b16-9d73f7fd6da1",
   "metadata": {
    "deletable": false,
    "editable": false,
    "tags": []
   },
   "source": [
    "<b>\n",
    "    <p style=\"text-align:center;color:#00694E;font-family:copperplate;font-size:40px\">\n",
    "        CS 4250 - Interactive Computer Graphics\n",
    "    </p>\n",
    "</b>"
   ]
  },
  {
   "cell_type": "markdown",
   "id": "78456164-3681-44b4-bbb2-67c11d3227f9",
   "metadata": {
    "deletable": false,
    "editable": false,
    "tags": []
   },
   "source": [
    "## **Course Description**\n",
    "\n",
    "CS 4250, Interactive Computer Graphics, is an elective course in the curriculum here at Ohio University. Students here at Ohio University usually take this course their Junior or Senior year to satisfy their elective requirements for graduation. This course covers the first few stages of programming interactive and 3-Dimnesional graphics with C++ and OpenGL. This is a very challenging course so students should have an interest in this field if they'd like to take this course because there is quite a lot of programming involved throughout the semester. Besides that, students who take this course will learn all about 2D and 3D graphics, input and interaction into their graphics programs, object transformations to move around in the 3D world, lighting and shading and a lot cooler stuff. CS 4250 is heavily project-based course so be prepared to figure a few things out on your own, but other than that this is a very interesting and rewarding course where you can build a bunch of cool things and learn all there is to know about developing interactive 3D graphics."
   ]
  },
  {
   "cell_type": "markdown",
   "id": "7c39d2e8-c3ea-418a-a115-1d46bc36c50d",
   "metadata": {
    "deletable": false,
    "editable": false,
    "tags": []
   },
   "source": [
    "## **Learning Outcomes**\n",
    "- Students will be able to create interactive computer graphics programs that allow a user to manipulate 2D and/or 3D objects in real-time.\n",
    "- Students will be able to create programs able to display simple 2D graphics.\n",
    "- Students will be able to create programs able to display 3D graphics.\n",
    "- Students will be able to evaluate the technology behind real-time 3D computer games."
   ]
  },
  {
   "cell_type": "markdown",
   "id": "69d81ad8-1d11-4216-a480-825ca43482af",
   "metadata": {
    "deletable": false,
    "editable": false,
    "tags": []
   },
   "source": [
    "## **What You'll Learn**"
   ]
  },
  {
   "cell_type": "markdown",
   "id": "92511ad9-7ee9-4e64-bbc5-d7314b672545",
   "metadata": {
    "deletable": false,
    "editable": false,
    "tags": []
   },
   "source": [
    "### **OpenGL**\n",
    "\n",
    "> OpenGL, short for Open Graphics Language, is platform-independent application programming interface (API) that is somewhat easy to use, and will be used to program 2D and 3D graphics with C++ in this course. There is a bit of a learning curve to OpenGL, but what students get the hang of the main necessities of every graphics program, it will come a lot quicker. OpenGL is the main API students will be using to create both 2D and 3D computer graphics, but there a few other toolkits and libraries that sort of come with OpenGL that will make your life as a programmer a lot easier. Two of these toolkits / libraries are GLUT and GLEW.\n",
    ">> - **GLUT**\n",
    ">>> - GLUT, short for OpenGL Utility Toolkit, is a large library of utilities for OpenGL programs. One of the best parts about GLUT is that it provides functionality common to all window systems like opening a window on the screen, grabbing input from the user's mouse and keyboard, pop-up menus, and it's also event-driven.\n",
    ">>> - As a student in CS 4250, you will utilize GLUT's functionality in just about everyone of your projects for this course\n",
    ">> - **GLEW**\n",
    ">>> - GLEW, short for OpenGL Extension Wrangler Library, is a cross-platform open-source C/C++ extension loading library. GLEW provides efficient run-time mechanisms for determining which OpenGL extensions are supported on the target platform. \n",
    ">>> - Similar to GLUT, as a student you will most likely use this OpenGL extension in every project you create in this course.\n",
    "> - Getting a good grasp of OpenGL early is an essential skill needed to succeed in this course. Graphics programming is not easy, but the more you know how to use OpenGL, the less difficult it will be for you to succeed. This course is very interesting because it is a project-based course that is quite open-ended, so the more you know about OpenGL and it's functionality, the more interesting stuff you will be able to create."
   ]
  },
  {
   "cell_type": "markdown",
   "id": "ee2b6016-c9e2-4fa8-8cf2-d3c0ba8e643c",
   "metadata": {
    "deletable": false,
    "editable": false,
    "tags": []
   },
   "source": [
    "Credit to https://www.opengl.org/resources/libraries/glut/glut_downloads.php for the above information."
   ]
  },
  {
   "cell_type": "markdown",
   "id": "68eca1e5-0771-4196-8c94-c8b1984cf0b9",
   "metadata": {
    "deletable": false,
    "editable": false,
    "tags": []
   },
   "source": [
    "### **Geometry in Computer Graphics**\n",
    "\n",
    "> Having a good knowledge of geometry is one of the most important skills to have as a graphics programmer because just about everything involves geometry in some way. Geometry is the study of the relationships among objects in an n-dimensional space and in computer graphics we are interested in objects that exist in three dimensions. The three basic elements we will need in our 3-Dimensonal world are **Scalars**, **Vectors**, & **Points**. With these three elements we can create and animate just about anything.\n",
    ">> - **Scalars**\n",
    ">>> - Scalars can be defined as members of sets which can be combined by two operations (addition and multiplication) obeying some fundamental axioms (associativity, commutativity, inverses)\n",
    ">>> - Examples of scalars include the real and complex number systems under the ordinary rules with which we are familiar\n",
    ">>> - Scalars alone have **no geometric properties**\n",
    ">> - **Vectors**\n",
    ">>> - A vector in geometry is considered to be a quantity with two separate attributes: **Direction** and **Magnitude**\n",
    ">>> - Examples different types of vectors include\n",
    ">>>> - Force\n",
    ">>>> - Velocity\n",
    ">>>> - Directed Line Segments\n",
    ">> - **Points**\n",
    ">>> - Points are just considered to be **specific locations in space**\n",
    ">>> - Certain operations are allowed between points and vectors\n",
    ">>>> - Point to point subtraction yields a vector which is equivalent to point to point addition"
   ]
  },
  {
   "cell_type": "markdown",
   "id": "afc8fa9e-ae3b-4e0f-8224-f8932d4a4b93",
   "metadata": {
    "deletable": false,
    "editable": false,
    "tags": []
   },
   "source": [
    "### **3D Graphics Examples**"
   ]
  },
  {
   "cell_type": "markdown",
   "id": "9627e2b2-45ff-4e9c-9c1f-eb43b6c66fc3",
   "metadata": {
    "deletable": false,
    "editable": false,
    "tags": []
   },
   "source": [
    "- #### A 15000-segment curve object with random segment lengths, radii, and colors"
   ]
  },
  {
   "cell_type": "code",
   "execution_count": null,
   "id": "436c0f48-5523-423c-8d6c-57591d292159",
   "metadata": {
    "deletable": false,
    "tags": []
   },
   "outputs": [],
   "source": [
    "# Credit to https://mybinder.org/v2/gh/vpython/vpython-jupyter/7.6.1?filepath=index.ipynb for the following code\n",
    "# Ensure kernel is set to Python3\n",
    "from vpython import *\n",
    "scene = canvas() # This is needed in Jupyter notebook and lab to make programs easily rerunnable\n",
    "from random import random\n",
    "scene.width = scene.height = 600\n",
    "scene.background = color.white\n",
    "scene.range = 1.3\n",
    "scene.title = 'A 15000-segment curve object with random segment lengths, radii, and colors'\n",
    "\n",
    "run = True\n",
    "def Runbutton(b):\n",
    "    global run\n",
    "    if b.text == 'Pause':\n",
    "        run = False\n",
    "        b.text = 'Run'\n",
    "    else:\n",
    "        run = True\n",
    "        b.text = 'Pause'\n",
    "        \n",
    "button(text='Pause', bind=Runbutton)\n",
    "scene.append_to_caption(\"\"\"<br>Right button drag or Ctrl-drag to rotate \"camera\" to view scene.\n",
    "Middle button or Alt-drag to drag up or down to zoom in or out.\n",
    "  On a two-button mouse, middle is left + right.\n",
    "Touch screen: pinch/extend to zoom, swipe or two-finger rotate.\"\"\")\n",
    "\n",
    "N = 15000\n",
    "p = []\n",
    "last = vec(0,0,0)\n",
    "for i in range(N):\n",
    "    next = last+0.1*vec.random()\n",
    "    while mag(next) > 1: # if next is outside the sphere, try another random value\n",
    "        next = last+0.1*vec.random()\n",
    "    p.append({'pos':next, 'radius':0.001+0.03*random(), 'color':(vec(1,1,1)+vec.random())/2})\n",
    "    last = next\n",
    "c = curve(p)\n",
    "while True:\n",
    "    rate(60)\n",
    "    if run:\n",
    "        c.rotate(angle=0.005, axis=vec(0,1,0))"
   ]
  },
  {
   "cell_type": "markdown",
   "id": "e2069a0f-91af-4213-9b02-13ebc2813681",
   "metadata": {
    "deletable": false,
    "editable": false,
    "tags": []
   },
   "source": [
    "- #### Billboarding text & scene rotation"
   ]
  },
  {
   "cell_type": "code",
   "execution_count": null,
   "id": "deb4c84c-ff04-4ac8-99df-3c702dd193ab",
   "metadata": {
    "deletable": false,
    "tags": []
   },
   "outputs": [],
   "source": [
    "# Credit to https://mybinder.org/v2/gh/vpython/vpython-jupyter/7.6.1?filepath=index.ipynb for the following code\n",
    "# Ensure kernel is set to Python3\n",
    "from vpython import *\n",
    "scene = canvas() # This is needed in Jupyter notebook and lab to make programs easily rerunnable\n",
    "b = box(pos=vec(-4,2,0), color=color.red)\n",
    "c1 = cylinder(pos=b.pos, radius=0.1, axis=vec(0,1.5,0), color=color.yellow)\n",
    "s = sphere(pos=vec(4,-4,0), radius=0.5, color=color.green)\n",
    "c2 = cylinder(pos=s.pos, radius=0.1, axis=vec(0,1.5,0), color=color.yellow)\n",
    "t1 = text(text='box', pos=c1.pos+c1.axis, align='center', height=0.5,\n",
    "          color=color.yellow, billboard=True, emissive=True)\n",
    "t2 = text(text='sphere', pos=c2.pos+c2.axis, align='center', height=0.5,\n",
    "          color=color.yellow, billboard=True, emissive=True)\n",
    "t3 = text(text='Faces forward', pos=vec(-4,0,0),\n",
    "          color=color.cyan, billboard=True, emissive=True)\n",
    "box(pos=t3.start, size=0.1*vec(1,1,1), color=color.red)\n",
    "t4 = text(text='Regular text', pos=vec(-4,-1,0), depth=0.5, color=color.yellow,\n",
    "        start_face_color=color.red, end_face_color=color.green)\n",
    "box(pos=t4.start, size=0.1*vec(1,1,1), color=color.red)\n",
    "\n",
    "scene.caption = \"\"\"<b>3D text can be \"billboard\" text -- always facing you.</b>\n",
    "Note that the \"Regular text\" has different colors on the front, back and sides.\n",
    "Right button drag or Ctrl-drag to rotate \"camera\" to view scene.\n",
    "To zoom, drag with middle button or Alt/Option depressed, or use scroll wheel.\n",
    "  On a two-button mouse, middle is left + right.\n",
    "Touch screen: pinch/extend to zoom, swipe or two-finger rotate.\"\"\""
   ]
  },
  {
   "cell_type": "markdown",
   "id": "146cfd02-1328-4766-a2a3-03c564e05986",
   "metadata": {
    "deletable": false,
    "editable": false,
    "tags": []
   },
   "source": [
    "##### **Link to Jupyter Repository with 3D Graphics examples**\n",
    "[Real-time 3D animation examples](https://mybinder.org/v2/gh/vpython/vpython-jupyter/7.6.1?filepath=index.ipynb)"
   ]
  },
  {
   "cell_type": "markdown",
   "id": "3060b627-b4b6-4588-83bd-5bffe444d5c9",
   "metadata": {
    "deletable": false,
    "editable": false,
    "tags": []
   },
   "source": [
    "## **Conclusion**\n",
    "\n",
    "CS 4250 is a difficult class that will test your skills as a programmer, but once you get the hang of OpenGL and the math that goes into creating computer graphics this course can be a whole lot of fun. Like mentioned before, this course is project-based and the projects you will develop are very open-ended. Meaning, there is a whole lot of room in each project to use your own creativity to develop really cool programs. One thing to note for this course is you don't necessarily need any prior experience working with computer graphics, but you will need a good amount of programming and linear algebra knowledge. So, if you have any interest designing games and 3D worlds like Minecraft this would be the perfect class for you to express your creativity."
   ]
  },
  {
   "cell_type": "markdown",
   "id": "5f159870-356b-4961-8cc4-0e2cfcfd681e",
   "metadata": {
    "deletable": false,
    "editable": false,
    "tags": []
   },
   "source": [
    "<b>\n",
    "    <p style=\"text-align:center;color:#00694E;font-family:copperplate;font-size:13px\">\n",
    "        © 2022 GAMA: Gavin Dassatti, Alex Heffner, Matthew Lang, and Aaron Begy. All rights reserved.\n",
    "    </p>\n",
    "</b>"
   ]
  }
 ],
 "metadata": {
  "kernelspec": {
   "display_name": "Python 3 (ipykernel)",
   "language": "python",
   "name": "python3"
  },
  "language_info": {
   "codemirror_mode": {
    "name": "ipython",
    "version": 3
   },
   "file_extension": ".py",
   "mimetype": "text/x-python",
   "name": "python",
   "nbconvert_exporter": "python",
   "pygments_lexer": "ipython3",
   "version": "3.9.10"
  }
 },
 "nbformat": 4,
 "nbformat_minor": 5
}
